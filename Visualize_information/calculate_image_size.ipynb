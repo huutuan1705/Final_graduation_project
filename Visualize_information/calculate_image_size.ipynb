{
 "cells": [
  {
   "cell_type": "code",
   "execution_count": 2,
   "metadata": {},
   "outputs": [],
   "source": [
    "import cv2\n",
    "import os"
   ]
  },
  {
   "cell_type": "code",
   "execution_count": 3,
   "metadata": {},
   "outputs": [],
   "source": [
    "def calculate_image_sizes(image_dir):\n",
    "    max_area = 0\n",
    "    min_area = float('inf')\n",
    "    total_width = 0\n",
    "    total_height = 0\n",
    "    count = 0\n",
    "    max_size = None\n",
    "    min_size = None\n",
    "\n",
    "    for filename in os.listdir(image_dir):\n",
    "        image_path = os.path.join(image_dir, filename)\n",
    "        image = cv2.imread(image_path)\n",
    "        \n",
    "        if image is None:\n",
    "            print(f\"Không thể đọc ảnh: {filename}\")\n",
    "            continue\n",
    "\n",
    "        height, width = image.shape[:2]\n",
    "        area = width * height\n",
    "        total_width += width\n",
    "        total_height += height\n",
    "        count += 1\n",
    "\n",
    "        if area > max_area:\n",
    "            max_area = area\n",
    "            max_size = (width, height)\n",
    "        \n",
    "        if area < min_area:\n",
    "            min_area = area\n",
    "            min_size = (width, height)\n",
    "\n",
    "    if count == 0:\n",
    "        print(\"Không có ảnh hợp lệ trong thư mục.\")\n",
    "        return\n",
    "\n",
    "    avg_width = total_width / count\n",
    "    avg_height = total_height / count\n",
    "\n",
    "    print(f\"Kích thước lớn nhất (width x height): {max_size}\")\n",
    "    print(f\"Kích thước nhỏ nhất (width x height): {min_size}\")\n",
    "    print(f\"Kích thước trung bình (width x height): ({avg_width:.2f}, {avg_height:.2f})\")"
   ]
  },
  {
   "cell_type": "code",
   "execution_count": 4,
   "metadata": {},
   "outputs": [
    {
     "name": "stdout",
     "output_type": "stream",
     "text": [
      "Kích thước lớn nhất (width x height): (768, 576)\n",
      "Kích thước nhỏ nhất (width x height): (213, 160)\n",
      "Kích thước trung bình (width x height): (558.86, 567.22)\n"
     ]
    }
   ],
   "source": [
    "image_dir = \"D:/Graduation_Thesis/Data_training_new\"  # Thay bằng đường dẫn thư mục chứa ảnh\n",
    "calculate_image_sizes(image_dir)"
   ]
  },
  {
   "cell_type": "code",
   "execution_count": 5,
   "metadata": {},
   "outputs": [
    {
     "data": {
      "text/plain": [
       "'0.115.0'"
      ]
     },
     "execution_count": 5,
     "metadata": {},
     "output_type": "execute_result"
    }
   ],
   "source": [
    "import fastapi\n",
    "fastapi.__version__"
   ]
  },
  {
   "cell_type": "code",
   "execution_count": 3,
   "metadata": {},
   "outputs": [
    {
     "name": "stdout",
     "output_type": "stream",
     "text": [
      "Ảnh đã được tải xuống và lưu tại: image2.jpg\n"
     ]
    }
   ],
   "source": [
    "import requests\n",
    "\n",
    "def download_image(url, save_path):\n",
    "    try:\n",
    "        response = requests.get(url, stream=True)  # Lấy dữ liệu ảnh từ URL\n",
    "        response.raise_for_status()  # Kiểm tra lỗi HTTP\n",
    "        with open(save_path, 'wb') as file:  # Mở file ở chế độ ghi nhị phân\n",
    "            for chunk in response.iter_content(1024):  # Đọc từng khối dữ liệu\n",
    "                file.write(chunk)  # Ghi dữ liệu vào file\n",
    "        print(f\"Ảnh đã được tải xuống và lưu tại: {save_path}\")\n",
    "    except Exception as e:\n",
    "        print(f\"Không thể tải ảnh. Lỗi: {e}\")\n",
    "\n",
    "# Sử dụng\n",
    "url = \"https://i.pinimg.com/736x/67/59/69/6759691fb5c433990c6ea11b6b2657be.jpg\"\n",
    "save_path = \"image2.jpg\"  # Đường dẫn lưu file\n",
    "download_image(url, save_path)\n"
   ]
  }
 ],
 "metadata": {
  "kernelspec": {
   "display_name": "Python 3",
   "language": "python",
   "name": "python3"
  },
  "language_info": {
   "codemirror_mode": {
    "name": "ipython",
    "version": 3
   },
   "file_extension": ".py",
   "mimetype": "text/x-python",
   "name": "python",
   "nbconvert_exporter": "python",
   "pygments_lexer": "ipython3",
   "version": "3.11.6"
  }
 },
 "nbformat": 4,
 "nbformat_minor": 2
}
